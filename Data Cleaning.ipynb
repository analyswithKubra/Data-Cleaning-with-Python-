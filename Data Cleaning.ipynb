{
  "nbformat": 4,
  "nbformat_minor": 0,
  "metadata": {
    "colab": {
      "provenance": [],
      "toc_visible": true,
      "authorship_tag": "ABX9TyNo4mQ7Dl5ejMLgI2QrgnS2",
      "include_colab_link": true
    },
    "kernelspec": {
      "name": "python3",
      "display_name": "Python 3"
    },
    "language_info": {
      "name": "python"
    }
  },
  "cells": [
    {
      "cell_type": "markdown",
      "metadata": {
        "id": "view-in-github",
        "colab_type": "text"
      },
      "source": [
        "<a href=\"https://colab.research.google.com/github/analyswithKubra/Data-Cleaning-with-Python-/blob/main/Data%20Cleaning.ipynb\" target=\"_parent\"><img src=\"https://colab.research.google.com/assets/colab-badge.svg\" alt=\"Open In Colab\"/></a>"
      ]
    },
    {
      "cell_type": "markdown",
      "source": [],
      "metadata": {
        "id": "2VIU0oFe3qsi"
      }
    },
    {
      "cell_type": "code",
      "source": [
        "data_jobs = [\n",
        "    {'job_title': 'Data Scientist', 'job_skills': \"['SQL', 'Python', 'Tableau']\", 'job_date': '2024-05-12'},\n",
        "    {'job_title': 'Data Analyst', 'job_skills': \"['Excel', 'SQL', 'Power BI']\", 'job_date': '2024-06-08'},\n",
        "    {'job_title': 'Machine Learning Engineer', 'job_skills': \"['Python', 'TensorFlow', 'Pandas']\", 'job_date': '2024-07-15'},\n",
        "    {'job_title': 'Business Intelligence Analyst', 'job_skills': \"['SQL', 'Tableau', 'Excel']\", 'job_date': '2024-08-01'},\n",
        "    {'job_title': 'Data Engineer', 'job_skills': \"['SQL', 'Python', 'Spark']\", 'job_date': '2024-09-10'},\n",
        "    {'job_title': 'Data Architect', 'job_skills': \"['SQL', 'AWS', 'ETL']\", 'job_date': '2024-10-22'},\n",
        "    {'job_title': 'AI Researcher', 'job_skills': \"['Python', 'Deep Learning', 'PyTorch']\", 'job_date': '2024-11-05'},\n",
        "    {'job_title': 'Database Administrator', 'job_skills': \"['SQL', 'PostgreSQL', 'MongoDB']\", 'job_date': '2024-12-18'},\n",
        "    {'job_title': 'Big Data Analyst', 'job_skills': \"['Hadoop', 'Spark', 'Python']\", 'job_date': '2025-01-03'},\n",
        "    {'job_title': 'ETL Developer', 'job_skills': \"['SQL', 'ETL', 'SSIS']\", 'job_date': '2025-02-14'}\n",
        "]\n"
      ],
      "metadata": {
        "id": "9Q_v0AA87sPQ"
      },
      "execution_count": 13,
      "outputs": []
    },
    {
      "cell_type": "code",
      "source": [
        "from datetime import datetime"
      ],
      "metadata": {
        "id": "3rBFp2KH7vlc"
      },
      "execution_count": 12,
      "outputs": []
    },
    {
      "cell_type": "code",
      "source": [
        "data_jobs[0]"
      ],
      "metadata": {
        "colab": {
          "base_uri": "https://localhost:8080/"
        },
        "id": "Y3TV7szC3usq",
        "outputId": "ceabc994-64c3-4666-c2e3-e6ac9e917447"
      },
      "execution_count": 14,
      "outputs": [
        {
          "output_type": "execute_result",
          "data": {
            "text/plain": [
              "{'job_title': 'Data Scientist',\n",
              " 'job_skills': \"['SQL', 'Python', 'Tableau']\",\n",
              " 'job_date': '2024-05-12'}"
            ]
          },
          "metadata": {},
          "execution_count": 14
        }
      ]
    },
    {
      "cell_type": "code",
      "source": [
        "data_jobs[0]['job_date']"
      ],
      "metadata": {
        "colab": {
          "base_uri": "https://localhost:8080/",
          "height": 35
        },
        "id": "4GnS_TSU32NC",
        "outputId": "adda0b98-57b4-43d2-e12e-9e91d6d107d9"
      },
      "execution_count": 18,
      "outputs": [
        {
          "output_type": "execute_result",
          "data": {
            "text/plain": [
              "'2024-05-12'"
            ],
            "application/vnd.google.colaboratory.intrinsic+json": {
              "type": "string"
            }
          },
          "metadata": {},
          "execution_count": 18
        }
      ]
    },
    {
      "cell_type": "code",
      "source": [
        "test_date=data_jobs[0]['job_date']"
      ],
      "metadata": {
        "id": "oTA2uf_14Ddu"
      },
      "execution_count": 19,
      "outputs": []
    },
    {
      "cell_type": "code",
      "source": [
        "datetime.strptime(test_date,'%Y-%m-%d')"
      ],
      "metadata": {
        "colab": {
          "base_uri": "https://localhost:8080/"
        },
        "id": "xuaJ3-9I4lsn",
        "outputId": "961beabd-621d-444a-dcbd-ac63cc077b19"
      },
      "execution_count": 20,
      "outputs": [
        {
          "output_type": "execute_result",
          "data": {
            "text/plain": [
              "datetime.datetime(2024, 5, 12, 0, 0)"
            ]
          },
          "metadata": {},
          "execution_count": 20
        }
      ]
    },
    {
      "cell_type": "code",
      "source": [
        "for job in data_jobs:\n",
        "    job['job_date']=datetime.strptime(job['job_date'],'%Y-%m-%d')"
      ],
      "metadata": {
        "id": "ZXaIRAIZ4aKJ"
      },
      "execution_count": 22,
      "outputs": []
    },
    {
      "cell_type": "code",
      "source": [
        "from google.colab import auth\n",
        "auth.authenticate_user()"
      ],
      "metadata": {
        "id": "1dVpYzu0_5by"
      },
      "execution_count": 28,
      "outputs": []
    },
    {
      "cell_type": "code",
      "source": [
        "for job in data_jobs:\n",
        "   print(type(job['job_date']))"
      ],
      "metadata": {
        "colab": {
          "base_uri": "https://localhost:8080/"
        },
        "id": "PPyIa3m06_4C",
        "outputId": "770b82ae-b8fb-4b8b-ec59-6d1a92407b9d"
      },
      "execution_count": 26,
      "outputs": [
        {
          "output_type": "stream",
          "name": "stdout",
          "text": [
            "<class 'datetime.datetime'>\n",
            "<class 'datetime.datetime'>\n",
            "<class 'datetime.datetime'>\n",
            "<class 'datetime.datetime'>\n",
            "<class 'datetime.datetime'>\n",
            "<class 'datetime.datetime'>\n",
            "<class 'datetime.datetime'>\n",
            "<class 'datetime.datetime'>\n",
            "<class 'datetime.datetime'>\n",
            "<class 'datetime.datetime'>\n"
          ]
        }
      ]
    },
    {
      "cell_type": "code",
      "source": [
        "!git config --global user.email \"kubradizlek1@gmail.com\"\n",
        "!git config --global user.name \"analyswithKubra\"\n"
      ],
      "metadata": {
        "id": "lxqMREzH8L4T"
      },
      "execution_count": 29,
      "outputs": []
    },
    {
      "cell_type": "code",
      "source": [
        "from google.colab import drive\n",
        "drive.mount('/content/drive')"
      ],
      "metadata": {
        "id": "X4csrpBcByCn"
      },
      "execution_count": null,
      "outputs": []
    }
  ]
}